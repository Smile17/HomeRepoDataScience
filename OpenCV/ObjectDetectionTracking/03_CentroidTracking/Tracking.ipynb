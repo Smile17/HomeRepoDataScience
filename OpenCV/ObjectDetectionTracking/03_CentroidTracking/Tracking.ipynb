{
 "cells": [
  {
   "cell_type": "markdown",
   "id": "e66217fe-de2c-4471-adad-a648f4ad22a4",
   "metadata": {},
   "source": [
    "# Review\n",
    "Centroid tracking algorithm:\n",
    "- we have 2 consecutive frames with bounding boxes of objects, we need to find trails of objects;\n",
    "\n",
    "Steps:\n",
    "- calculate center of bounding boxes;\n",
    "- setup initial objects IDs;\n",
    "- for each ID search for the closest center from next frame;\n",
    "- if some center left it means that new object has appeared;\n",
    "- if some center from first frame left it means some object disappered;\n",
    "\n",
    "\n",
    "Drawbacks:\n",
    "- might be slow if detector is slow;\n",
    "- might be IDs switching if objects cross each other;\n",
    "- might be IDs switching if one object disappears, another one appear simultenously (check)\n",
    "\n",
    "Next step:\n",
    "- copy lab and check it;\n",
    "- use own video from color tracking and improve trailing calculation;"
   ]
  },
  {
   "cell_type": "code",
   "execution_count": null,
   "id": "9285816a-f100-4099-a885-4d30b0b511cf",
   "metadata": {},
   "outputs": [],
   "source": []
  }
 ],
 "metadata": {
  "kernelspec": {
   "display_name": "Python 3 (ipykernel)",
   "language": "python",
   "name": "python3"
  },
  "language_info": {
   "codemirror_mode": {
    "name": "ipython",
    "version": 3
   },
   "file_extension": ".py",
   "mimetype": "text/x-python",
   "name": "python",
   "nbconvert_exporter": "python",
   "pygments_lexer": "ipython3",
   "version": "3.9.7"
  }
 },
 "nbformat": 4,
 "nbformat_minor": 5
}
